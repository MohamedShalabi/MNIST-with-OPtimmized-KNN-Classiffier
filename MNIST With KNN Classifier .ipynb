{
 "cells": [
  {
   "cell_type": "code",
   "execution_count": 1,
   "metadata": {},
   "outputs": [
    {
     "data": {
      "text/plain": [
       "{'DESCR': 'mldata.org dataset: mnist-original',\n",
       " 'COL_NAMES': ['label', 'data'],\n",
       " 'target': array([0., 0., 0., ..., 9., 9., 9.]),\n",
       " 'data': array([[0, 0, 0, ..., 0, 0, 0],\n",
       "        [0, 0, 0, ..., 0, 0, 0],\n",
       "        [0, 0, 0, ..., 0, 0, 0],\n",
       "        ...,\n",
       "        [0, 0, 0, ..., 0, 0, 0],\n",
       "        [0, 0, 0, ..., 0, 0, 0],\n",
       "        [0, 0, 0, ..., 0, 0, 0]], dtype=uint8)}"
      ]
     },
     "execution_count": 1,
     "metadata": {},
     "output_type": "execute_result"
    }
   ],
   "source": [
    "\n",
    "#step one : fething the dataset\n",
    "from sklearn.datasets import fetch_mldata\n",
    "mnist  = fetch_mldata('MNIST original')\n",
    "mnist"
   ]
  },
  {
   "cell_type": "code",
   "execution_count": null,
   "metadata": {},
   "outputs": [],
   "source": []
  },
  {
   "cell_type": "code",
   "execution_count": 2,
   "metadata": {},
   "outputs": [
    {
     "name": "stdout",
     "output_type": "stream",
     "text": [
      "(70000, 784) (70000,)\n"
     ]
    }
   ],
   "source": [
    "# creat feature and label data\n",
    "x = mnist['data'] #matrix of features\n",
    "y = mnist['target'] #vector of labels\n",
    "print(x.shape,y.shape)"
   ]
  },
  {
   "cell_type": "code",
   "execution_count": 14,
   "metadata": {},
   "outputs": [
    {
     "name": "stdout",
     "output_type": "stream",
     "text": [
      "(2000, 784) (2000,)\n",
      "5.0\n"
     ]
    }
   ],
   "source": [
    "# let's split the data into 2000 for train and rest for due to my computer capabilities(Do not split like me!)\n",
    "# it would be better to make 60000 for train and 10000 for test\n",
    "from sklearn.model_selection import train_test_split\n",
    "xtrain,xtest,ytrain,ytest = train_test_split(x,y,test_size=68/70 , random_state = 42)\n",
    "print(xtrain.shape , ytrain.shape)\n",
    "digit = y[36000]\n",
    "Afeature = x[36000]\n",
    "print(digit) #we will use this digit to apply checks on our prediction"
   ]
  },
  {
   "cell_type": "code",
   "execution_count": 15,
   "metadata": {},
   "outputs": [
    {
     "data": {
      "text/plain": [
       "array([5.])"
      ]
     },
     "execution_count": 15,
     "metadata": {},
     "output_type": "execute_result"
    }
   ],
   "source": [
    "# we will use kneighours model and optomizze to get accuracy of 97%\n",
    "from sklearn.neighbors import KNeighborsClassifier\n",
    "classifier = KNeighborsClassifier()\n",
    "classifier.fit(xtrain , ytrain)\n",
    "classifier.predict([Afeature])#below you will find a good predictor "
   ]
  },
  {
   "cell_type": "code",
   "execution_count": 16,
   "metadata": {},
   "outputs": [
    {
     "data": {
      "text/plain": [
       "array([0.87761194, 0.87256372, 0.88084465])"
      ]
     },
     "execution_count": 16,
     "metadata": {},
     "output_type": "execute_result"
    }
   ],
   "source": [
    "# let's evaluate our model \n",
    "from sklearn.model_selection import cross_val_score\n",
    "accuracy = cross_val_score(classifier , xtrain , ytrain , cv = 3, scoring = 'accuracy')\n",
    "accuracy\n"
   ]
  },
  {
   "cell_type": "code",
   "execution_count": 17,
   "metadata": {},
   "outputs": [
    {
     "data": {
      "text/plain": [
       "0.877006767996655"
      ]
     },
     "execution_count": 17,
     "metadata": {},
     "output_type": "execute_result"
    }
   ],
   "source": [
    "accuracy.mean()#we will try to play around the hyper parameters to increase the accuracy up to 90%"
   ]
  },
  {
   "cell_type": "code",
   "execution_count": 18,
   "metadata": {},
   "outputs": [
    {
     "name": "stdout",
     "output_type": "stream",
     "text": [
      "{'n_neighbors': [1, 2, 3, 4, 5, 6, 7, 8, 9, 10, 11, 12, 13, 14, 15, 16, 17, 18, 19, 20, 21, 22, 23, 24, 25, 26, 27, 28, 29, 30]}\n"
     ]
    }
   ],
   "source": [
    "# for tunning the parameters we will use gridsearch\n",
    "from sklearn.model_selection import GridSearchCV\n",
    "k_range = list(range(1, 31))\n",
    "# creat a dictionary of the values with the parameter\n",
    "param_grid = dict(n_neighbors=k_range)\n",
    "print(param_grid)"
   ]
  },
  {
   "cell_type": "code",
   "execution_count": 21,
   "metadata": {},
   "outputs": [
    {
     "data": {
      "text/plain": [
       "GridSearchCV(cv=10, error_score='raise',\n",
       "       estimator=KNeighborsClassifier(algorithm='auto', leaf_size=30, metric='minkowski',\n",
       "           metric_params=None, n_jobs=1, n_neighbors=5, p=2,\n",
       "           weights='uniform'),\n",
       "       fit_params=None, iid=True, n_jobs=1,\n",
       "       param_grid={'n_neighbors': [1, 2, 3, 4, 5, 6, 7, 8, 9, 10, 11, 12, 13, 14, 15, 16, 17, 18, 19, 20, 21, 22, 23, 24, 25, 26, 27, 28, 29, 30]},\n",
       "       pre_dispatch='2*n_jobs', refit=True, return_train_score='warn',\n",
       "       scoring='accuracy', verbose=0)"
      ]
     },
     "execution_count": 21,
     "metadata": {},
     "output_type": "execute_result"
    }
   ],
   "source": [
    "# instantiate the grid\n",
    "grid = GridSearchCV(classifier, param_grid, cv=10, scoring='accuracy')\n",
    "grid.fit(xtrain ,ytrain )"
   ]
  },
  {
   "cell_type": "code",
   "execution_count": 31,
   "metadata": {},
   "outputs": [
    {
     "name": "stderr",
     "output_type": "stream",
     "text": [
      "E:\\Anaconda\\lib\\site-packages\\sklearn\\model_selection\\_search.py:761: DeprecationWarning: The grid_scores_ attribute was deprecated in version 0.18 in favor of the more elaborate cv_results_ attribute. The grid_scores_ attribute will not be available from 0.20\n",
      "  DeprecationWarning)\n"
     ]
    },
    {
     "data": {
      "text/plain": [
       "KNeighborsClassifier(algorithm='auto', leaf_size=30, metric='minkowski',\n",
       "           metric_params=None, n_jobs=1, n_neighbors=1, p=2,\n",
       "           weights='uniform')"
      ]
     },
     "execution_count": 31,
     "metadata": {},
     "output_type": "execute_result"
    }
   ],
   "source": [
    "scores = grid.grid_scores_\n",
    "grid.best_estimator_  #below ou can find the best parameters to get the ma possible accuracy"
   ]
  },
  {
   "cell_type": "code",
   "execution_count": 30,
   "metadata": {},
   "outputs": [
    {
     "name": "stdout",
     "output_type": "stream",
     "text": [
      "[0.88235294 0.89705882 0.91176471 0.9009901  0.91       0.90954774\n",
      " 0.91414141 0.87817259 0.87755102 0.92346939]\n",
      "{'n_neighbors': 1}\n",
      "0.9005\n"
     ]
    }
   ],
   "source": [
    "\n",
    "print(scores[0].cv_validation_scores)\n",
    "print(scores[0].mean_validation_score)\n"
   ]
  },
  {
   "cell_type": "code",
   "execution_count": 35,
   "metadata": {},
   "outputs": [
    {
     "data": {
      "text/html": [
       "<div>\n",
       "<style scoped>\n",
       "    .dataframe tbody tr th:only-of-type {\n",
       "        vertical-align: middle;\n",
       "    }\n",
       "\n",
       "    .dataframe tbody tr th {\n",
       "        vertical-align: top;\n",
       "    }\n",
       "\n",
       "    .dataframe thead th {\n",
       "        text-align: right;\n",
       "    }\n",
       "</style>\n",
       "<table border=\"1\" class=\"dataframe\">\n",
       "  <thead>\n",
       "    <tr style=\"text-align: right;\">\n",
       "      <th></th>\n",
       "      <th>parameters</th>\n",
       "      <th>mean_validation_score</th>\n",
       "      <th>cv_validation_scores</th>\n",
       "    </tr>\n",
       "  </thead>\n",
       "  <tbody>\n",
       "    <tr>\n",
       "      <th>0</th>\n",
       "      <td>{'n_neighbors': 1}</td>\n",
       "      <td>0.9005</td>\n",
       "      <td>[0.8823529411764706, 0.8970588235294118, 0.911...</td>\n",
       "    </tr>\n",
       "    <tr>\n",
       "      <th>1</th>\n",
       "      <td>{'n_neighbors': 2}</td>\n",
       "      <td>0.8795</td>\n",
       "      <td>[0.8774509803921569, 0.8627450980392157, 0.892...</td>\n",
       "    </tr>\n",
       "    <tr>\n",
       "      <th>2</th>\n",
       "      <td>{'n_neighbors': 3}</td>\n",
       "      <td>0.8935</td>\n",
       "      <td>[0.8921568627450981, 0.8823529411764706, 0.892...</td>\n",
       "    </tr>\n",
       "    <tr>\n",
       "      <th>3</th>\n",
       "      <td>{'n_neighbors': 4}</td>\n",
       "      <td>0.8940</td>\n",
       "      <td>[0.8921568627450981, 0.8872549019607843, 0.906...</td>\n",
       "    </tr>\n",
       "    <tr>\n",
       "      <th>4</th>\n",
       "      <td>{'n_neighbors': 5}</td>\n",
       "      <td>0.8980</td>\n",
       "      <td>[0.8872549019607843, 0.8774509803921569, 0.906...</td>\n",
       "    </tr>\n",
       "    <tr>\n",
       "      <th>5</th>\n",
       "      <td>{'n_neighbors': 6}</td>\n",
       "      <td>0.8925</td>\n",
       "      <td>[0.8823529411764706, 0.8823529411764706, 0.916...</td>\n",
       "    </tr>\n",
       "    <tr>\n",
       "      <th>6</th>\n",
       "      <td>{'n_neighbors': 7}</td>\n",
       "      <td>0.8905</td>\n",
       "      <td>[0.8823529411764706, 0.8774509803921569, 0.906...</td>\n",
       "    </tr>\n",
       "    <tr>\n",
       "      <th>7</th>\n",
       "      <td>{'n_neighbors': 8}</td>\n",
       "      <td>0.8915</td>\n",
       "      <td>[0.8774509803921569, 0.8725490196078431, 0.906...</td>\n",
       "    </tr>\n",
       "    <tr>\n",
       "      <th>8</th>\n",
       "      <td>{'n_neighbors': 9}</td>\n",
       "      <td>0.8900</td>\n",
       "      <td>[0.8774509803921569, 0.8823529411764706, 0.901...</td>\n",
       "    </tr>\n",
       "    <tr>\n",
       "      <th>9</th>\n",
       "      <td>{'n_neighbors': 10}</td>\n",
       "      <td>0.8890</td>\n",
       "      <td>[0.8823529411764706, 0.8774509803921569, 0.897...</td>\n",
       "    </tr>\n",
       "    <tr>\n",
       "      <th>10</th>\n",
       "      <td>{'n_neighbors': 11}</td>\n",
       "      <td>0.8885</td>\n",
       "      <td>[0.8823529411764706, 0.8774509803921569, 0.897...</td>\n",
       "    </tr>\n",
       "    <tr>\n",
       "      <th>11</th>\n",
       "      <td>{'n_neighbors': 12}</td>\n",
       "      <td>0.8845</td>\n",
       "      <td>[0.8872549019607843, 0.8725490196078431, 0.882...</td>\n",
       "    </tr>\n",
       "    <tr>\n",
       "      <th>12</th>\n",
       "      <td>{'n_neighbors': 13}</td>\n",
       "      <td>0.8825</td>\n",
       "      <td>[0.8872549019607843, 0.8676470588235294, 0.882...</td>\n",
       "    </tr>\n",
       "    <tr>\n",
       "      <th>13</th>\n",
       "      <td>{'n_neighbors': 14}</td>\n",
       "      <td>0.8780</td>\n",
       "      <td>[0.8823529411764706, 0.8676470588235294, 0.872...</td>\n",
       "    </tr>\n",
       "    <tr>\n",
       "      <th>14</th>\n",
       "      <td>{'n_neighbors': 15}</td>\n",
       "      <td>0.8730</td>\n",
       "      <td>[0.8725490196078431, 0.8529411764705882, 0.877...</td>\n",
       "    </tr>\n",
       "    <tr>\n",
       "      <th>15</th>\n",
       "      <td>{'n_neighbors': 16}</td>\n",
       "      <td>0.8725</td>\n",
       "      <td>[0.8676470588235294, 0.8676470588235294, 0.882...</td>\n",
       "    </tr>\n",
       "    <tr>\n",
       "      <th>16</th>\n",
       "      <td>{'n_neighbors': 17}</td>\n",
       "      <td>0.8690</td>\n",
       "      <td>[0.8627450980392157, 0.8627450980392157, 0.877...</td>\n",
       "    </tr>\n",
       "    <tr>\n",
       "      <th>17</th>\n",
       "      <td>{'n_neighbors': 18}</td>\n",
       "      <td>0.8690</td>\n",
       "      <td>[0.8627450980392157, 0.8676470588235294, 0.882...</td>\n",
       "    </tr>\n",
       "    <tr>\n",
       "      <th>18</th>\n",
       "      <td>{'n_neighbors': 19}</td>\n",
       "      <td>0.8675</td>\n",
       "      <td>[0.8676470588235294, 0.8431372549019608, 0.882...</td>\n",
       "    </tr>\n",
       "    <tr>\n",
       "      <th>19</th>\n",
       "      <td>{'n_neighbors': 20}</td>\n",
       "      <td>0.8630</td>\n",
       "      <td>[0.8676470588235294, 0.8529411764705882, 0.877...</td>\n",
       "    </tr>\n",
       "    <tr>\n",
       "      <th>20</th>\n",
       "      <td>{'n_neighbors': 21}</td>\n",
       "      <td>0.8620</td>\n",
       "      <td>[0.8676470588235294, 0.8382352941176471, 0.877...</td>\n",
       "    </tr>\n",
       "    <tr>\n",
       "      <th>21</th>\n",
       "      <td>{'n_neighbors': 22}</td>\n",
       "      <td>0.8575</td>\n",
       "      <td>[0.8529411764705882, 0.8431372549019608, 0.872...</td>\n",
       "    </tr>\n",
       "    <tr>\n",
       "      <th>22</th>\n",
       "      <td>{'n_neighbors': 23}</td>\n",
       "      <td>0.8565</td>\n",
       "      <td>[0.8578431372549019, 0.8431372549019608, 0.872...</td>\n",
       "    </tr>\n",
       "    <tr>\n",
       "      <th>23</th>\n",
       "      <td>{'n_neighbors': 24}</td>\n",
       "      <td>0.8550</td>\n",
       "      <td>[0.8529411764705882, 0.8382352941176471, 0.862...</td>\n",
       "    </tr>\n",
       "    <tr>\n",
       "      <th>24</th>\n",
       "      <td>{'n_neighbors': 25}</td>\n",
       "      <td>0.8540</td>\n",
       "      <td>[0.8529411764705882, 0.8382352941176471, 0.867...</td>\n",
       "    </tr>\n",
       "    <tr>\n",
       "      <th>25</th>\n",
       "      <td>{'n_neighbors': 26}</td>\n",
       "      <td>0.8540</td>\n",
       "      <td>[0.8529411764705882, 0.8382352941176471, 0.872...</td>\n",
       "    </tr>\n",
       "    <tr>\n",
       "      <th>26</th>\n",
       "      <td>{'n_neighbors': 27}</td>\n",
       "      <td>0.8490</td>\n",
       "      <td>[0.8431372549019608, 0.8333333333333334, 0.857...</td>\n",
       "    </tr>\n",
       "    <tr>\n",
       "      <th>27</th>\n",
       "      <td>{'n_neighbors': 28}</td>\n",
       "      <td>0.8480</td>\n",
       "      <td>[0.8480392156862745, 0.8235294117647058, 0.862...</td>\n",
       "    </tr>\n",
       "    <tr>\n",
       "      <th>28</th>\n",
       "      <td>{'n_neighbors': 29}</td>\n",
       "      <td>0.8470</td>\n",
       "      <td>[0.8480392156862745, 0.8235294117647058, 0.857...</td>\n",
       "    </tr>\n",
       "    <tr>\n",
       "      <th>29</th>\n",
       "      <td>{'n_neighbors': 30}</td>\n",
       "      <td>0.8490</td>\n",
       "      <td>[0.8431372549019608, 0.8235294117647058, 0.867...</td>\n",
       "    </tr>\n",
       "  </tbody>\n",
       "</table>\n",
       "</div>"
      ],
      "text/plain": [
       "             parameters  mean_validation_score  \\\n",
       "0    {'n_neighbors': 1}                 0.9005   \n",
       "1    {'n_neighbors': 2}                 0.8795   \n",
       "2    {'n_neighbors': 3}                 0.8935   \n",
       "3    {'n_neighbors': 4}                 0.8940   \n",
       "4    {'n_neighbors': 5}                 0.8980   \n",
       "5    {'n_neighbors': 6}                 0.8925   \n",
       "6    {'n_neighbors': 7}                 0.8905   \n",
       "7    {'n_neighbors': 8}                 0.8915   \n",
       "8    {'n_neighbors': 9}                 0.8900   \n",
       "9   {'n_neighbors': 10}                 0.8890   \n",
       "10  {'n_neighbors': 11}                 0.8885   \n",
       "11  {'n_neighbors': 12}                 0.8845   \n",
       "12  {'n_neighbors': 13}                 0.8825   \n",
       "13  {'n_neighbors': 14}                 0.8780   \n",
       "14  {'n_neighbors': 15}                 0.8730   \n",
       "15  {'n_neighbors': 16}                 0.8725   \n",
       "16  {'n_neighbors': 17}                 0.8690   \n",
       "17  {'n_neighbors': 18}                 0.8690   \n",
       "18  {'n_neighbors': 19}                 0.8675   \n",
       "19  {'n_neighbors': 20}                 0.8630   \n",
       "20  {'n_neighbors': 21}                 0.8620   \n",
       "21  {'n_neighbors': 22}                 0.8575   \n",
       "22  {'n_neighbors': 23}                 0.8565   \n",
       "23  {'n_neighbors': 24}                 0.8550   \n",
       "24  {'n_neighbors': 25}                 0.8540   \n",
       "25  {'n_neighbors': 26}                 0.8540   \n",
       "26  {'n_neighbors': 27}                 0.8490   \n",
       "27  {'n_neighbors': 28}                 0.8480   \n",
       "28  {'n_neighbors': 29}                 0.8470   \n",
       "29  {'n_neighbors': 30}                 0.8490   \n",
       "\n",
       "                                 cv_validation_scores  \n",
       "0   [0.8823529411764706, 0.8970588235294118, 0.911...  \n",
       "1   [0.8774509803921569, 0.8627450980392157, 0.892...  \n",
       "2   [0.8921568627450981, 0.8823529411764706, 0.892...  \n",
       "3   [0.8921568627450981, 0.8872549019607843, 0.906...  \n",
       "4   [0.8872549019607843, 0.8774509803921569, 0.906...  \n",
       "5   [0.8823529411764706, 0.8823529411764706, 0.916...  \n",
       "6   [0.8823529411764706, 0.8774509803921569, 0.906...  \n",
       "7   [0.8774509803921569, 0.8725490196078431, 0.906...  \n",
       "8   [0.8774509803921569, 0.8823529411764706, 0.901...  \n",
       "9   [0.8823529411764706, 0.8774509803921569, 0.897...  \n",
       "10  [0.8823529411764706, 0.8774509803921569, 0.897...  \n",
       "11  [0.8872549019607843, 0.8725490196078431, 0.882...  \n",
       "12  [0.8872549019607843, 0.8676470588235294, 0.882...  \n",
       "13  [0.8823529411764706, 0.8676470588235294, 0.872...  \n",
       "14  [0.8725490196078431, 0.8529411764705882, 0.877...  \n",
       "15  [0.8676470588235294, 0.8676470588235294, 0.882...  \n",
       "16  [0.8627450980392157, 0.8627450980392157, 0.877...  \n",
       "17  [0.8627450980392157, 0.8676470588235294, 0.882...  \n",
       "18  [0.8676470588235294, 0.8431372549019608, 0.882...  \n",
       "19  [0.8676470588235294, 0.8529411764705882, 0.877...  \n",
       "20  [0.8676470588235294, 0.8382352941176471, 0.877...  \n",
       "21  [0.8529411764705882, 0.8431372549019608, 0.872...  \n",
       "22  [0.8578431372549019, 0.8431372549019608, 0.872...  \n",
       "23  [0.8529411764705882, 0.8382352941176471, 0.862...  \n",
       "24  [0.8529411764705882, 0.8382352941176471, 0.867...  \n",
       "25  [0.8529411764705882, 0.8382352941176471, 0.872...  \n",
       "26  [0.8431372549019608, 0.8333333333333334, 0.857...  \n",
       "27  [0.8480392156862745, 0.8235294117647058, 0.862...  \n",
       "28  [0.8480392156862745, 0.8235294117647058, 0.857...  \n",
       "29  [0.8431372549019608, 0.8235294117647058, 0.867...  "
      ]
     },
     "execution_count": 35,
     "metadata": {},
     "output_type": "execute_result"
    }
   ],
   "source": [
    "# let's visualize the relationbetween the k range and the accuracy\n",
    "%matplotlib inline\n",
    "import matplotlib\n",
    "import matplotlib.pyplot as plt\n",
    "import pandas as pd \n",
    "df=pd.DataFrame(scores)\n",
    "df['mean_validation_score']"
   ]
  },
  {
   "cell_type": "code",
   "execution_count": 38,
   "metadata": {},
   "outputs": [
    {
     "data": {
      "image/png": "[encoded data removed]",
      "text/plain": [
       "<Figure size 432x288 with 1 Axes>"
      ]
     },
     "metadata": {},
     "output_type": "display_data"
    }
   ],
   "source": [
    "plt.plot(k_range, df['mean_validation_score'])\n",
    "plt.show()"
   ]
  }
 ],
 "metadata": {
  "kernelspec": {
   "display_name": "Python 3",
   "language": "python",
   "name": "python3"
  },
  "language_info": {
   "codemirror_mode": {
    "name": "ipython",
    "version": 3
   },
   "file_extension": ".py",
   "mimetype": "text/x-python",
   "name": "python",
   "nbconvert_exporter": "python",
   "pygments_lexer": "ipython3",
   "version": "3.6.5"
  }
 },
 "nbformat": 4,
 "nbformat_minor": 2
}
